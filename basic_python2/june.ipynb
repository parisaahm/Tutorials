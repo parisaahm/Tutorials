{
  "nbformat": 4,
  "nbformat_minor": 0,
  "metadata": {
    "colab": {
      "name": "june.ipynb",
      "provenance": [],
      "collapsed_sections": []
    },
    "kernelspec": {
      "name": "python3",
      "display_name": "Python 3"
    },
    "language_info": {
      "name": "python"
    }
  },
  "cells": [
    {
      "cell_type": "code",
      "metadata": {
        "colab": {
          "base_uri": "https://localhost:8080/"
        },
        "id": "LwSQ8TrDEnxe",
        "outputId": "55c35744-27c1-41dd-90a6-d03540f340d4"
      },
      "source": [
        " print( '*' * 10)"
      ],
      "execution_count": null,
      "outputs": [
        {
          "output_type": "stream",
          "text": [
            "**********\n"
          ],
          "name": "stdout"
        }
      ]
    },
    {
      "cell_type": "code",
      "metadata": {
        "colab": {
          "base_uri": "https://localhost:8080/"
        },
        "id": "tAMwo0chGLku",
        "outputId": "f344b90c-e83b-42a2-dd99-b4728703795b"
      },
      "source": [
        "name = input(\"what is your name? \")\n",
        "print( \" Hi \" + name)\n"
      ],
      "execution_count": null,
      "outputs": [
        {
          "output_type": "stream",
          "text": [
            "what is your name? parisa\n",
            " Hi parisa\n"
          ],
          "name": "stdout"
        }
      ]
    },
    {
      "cell_type": "code",
      "metadata": {
        "colab": {
          "base_uri": "https://localhost:8080/"
        },
        "id": "bfgXygb5IWK9",
        "outputId": "a042bdad-71b5-4168-bcea-0bca41e1fb88"
      },
      "source": [
        " name = input( \" what is you name? \")\n",
        " favorite_color = input(\" what is your favorite color? \" )\n",
        " print( name + \"likes\" + favorite_color )"
      ],
      "execution_count": null,
      "outputs": [
        {
          "output_type": "stream",
          "text": [
            " what is you name? parisa\n",
            " what is your favorite color? green\n",
            "parisalikesgreen\n"
          ],
          "name": "stdout"
        }
      ]
    },
    {
      "cell_type": "code",
      "metadata": {
        "colab": {
          "base_uri": "https://localhost:8080/"
        },
        "id": "zhCAH-3PI-ch",
        "outputId": "7a5951b5-3ddb-410e-a015-a6bfd1244d2a"
      },
      "source": [
        "birth_year = input(\" Birth year: \")\n",
        "print( type(birth_year))\n",
        "age = 2021 - int(birth_year)\n",
        "print(age)\n",
        "print(type(age))"
      ],
      "execution_count": null,
      "outputs": [
        {
          "output_type": "stream",
          "text": [
            " Birth year: 1990\n",
            "<class 'str'>\n",
            "31\n",
            "<class 'int'>\n"
          ],
          "name": "stdout"
        }
      ]
    },
    {
      "cell_type": "code",
      "metadata": {
        "colab": {
          "base_uri": "https://localhost:8080/"
        },
        "id": "5bmSrwsqLTht",
        "outputId": "475291f3-4379-494d-a07d-f1bccf009f41"
      },
      "source": [
        "weight_lb = input( \" how much do you weight? (lbs) \")\n",
        "weight_kg = int(weight_lb) * 0.45\n",
        "print( weight_kg)"
      ],
      "execution_count": null,
      "outputs": [
        {
          "output_type": "stream",
          "text": [
            " how much do you weight? (lbs) 100\n",
            "45.0\n"
          ],
          "name": "stdout"
        }
      ]
    },
    {
      "cell_type": "code",
      "metadata": {
        "colab": {
          "base_uri": "https://localhost:8080/"
        },
        "id": "dOw82HDZN8Zf",
        "outputId": "c9cd3ae4-734c-4a01-b0f4-f4eaa7533071"
      },
      "source": [
        "course = \"hello!\"\n",
        "print( course[1])"
      ],
      "execution_count": null,
      "outputs": [
        {
          "output_type": "stream",
          "text": [
            "e\n"
          ],
          "name": "stdout"
        }
      ]
    },
    {
      "cell_type": "code",
      "metadata": {
        "colab": {
          "base_uri": "https://localhost:8080/"
        },
        "id": "PwOGhyKTPrQy",
        "outputId": "a44763bc-a1b2-4249-cd34-cfe936d71a34"
      },
      "source": [
        "name = ( \"parisa\")\n",
        "print( name[1:-1])"
      ],
      "execution_count": null,
      "outputs": [
        {
          "output_type": "stream",
          "text": [
            "aris\n"
          ],
          "name": "stdout"
        }
      ]
    },
    {
      "cell_type": "code",
      "metadata": {
        "colab": {
          "base_uri": "https://localhost:8080/"
        },
        "id": "tBN4sdWCQfY7",
        "outputId": "6826c4a1-e730-4243-ed9a-b506eb2214c9"
      },
      "source": [
        "first  = 'parisa'\n",
        "last = 'ahmadpour'\n",
        "message = first +  \"[\" + last + \"] is a designer\"\n",
        "print(message)"
      ],
      "execution_count": null,
      "outputs": [
        {
          "output_type": "stream",
          "text": [
            "parisa[ahmadpour] is a designer\n"
          ],
          "name": "stdout"
        }
      ]
    },
    {
      "cell_type": "code",
      "metadata": {
        "colab": {
          "base_uri": "https://localhost:8080/"
        },
        "id": "LfYZiwSSRi9u",
        "outputId": "7846a3dc-d59e-42c9-c408-88eca02a02b3"
      },
      "source": [
        "#pref-string\n",
        "first = \"ali\"\n",
        "last = \"mohammadi\"\n",
        "message = f\" {first} [{last}] is a codder\"\n",
        "print(message)"
      ],
      "execution_count": null,
      "outputs": [
        {
          "output_type": "stream",
          "text": [
            " ali [mohammadi] is a codder\n"
          ],
          "name": "stdout"
        }
      ]
    },
    {
      "cell_type": "code",
      "metadata": {
        "colab": {
          "base_uri": "https://localhost:8080/"
        },
        "id": "79F0E5_YWpgG",
        "outputId": "6752d1ae-c4de-436d-8888-da64347e9d1f"
      },
      "source": [
        "print( len(message))"
      ],
      "execution_count": null,
      "outputs": [
        {
          "output_type": "stream",
          "text": [
            "28\n"
          ],
          "name": "stdout"
        }
      ]
    },
    {
      "cell_type": "code",
      "metadata": {
        "colab": {
          "base_uri": "https://localhost:8080/"
        },
        "id": "J-8IPR80czmf",
        "outputId": "d3391fa4-923d-418d-9352-a04bccf4bf71"
      },
      "source": [
        "print(message.upper())"
      ],
      "execution_count": null,
      "outputs": [
        {
          "output_type": "stream",
          "text": [
            " ALI [MOHAMMADI] IS A CODDER\n"
          ],
          "name": "stdout"
        }
      ]
    },
    {
      "cell_type": "code",
      "metadata": {
        "colab": {
          "base_uri": "https://localhost:8080/"
        },
        "id": "ysuQLzZceEGS",
        "outputId": "e052f737-bc31-42dd-d9b3-d83385e8f912"
      },
      "source": [
        "print(message.find(\"m\"))"
      ],
      "execution_count": null,
      "outputs": [
        {
          "output_type": "stream",
          "text": [
            "6\n"
          ],
          "name": "stdout"
        }
      ]
    },
    {
      "cell_type": "code",
      "metadata": {
        "colab": {
          "base_uri": "https://localhost:8080/"
        },
        "id": "AspbglapebEv",
        "outputId": "9ade18d6-51fe-4630-d4fa-28b2c8f62930"
      },
      "source": [
        "\"ali\" in message"
      ],
      "execution_count": null,
      "outputs": [
        {
          "output_type": "execute_result",
          "data": {
            "text/plain": [
              "True"
            ]
          },
          "metadata": {
            "tags": []
          },
          "execution_count": 35
        }
      ]
    },
    {
      "cell_type": "code",
      "metadata": {
        "colab": {
          "base_uri": "https://localhost:8080/"
        },
        "id": "3q_w7KHmfHCk",
        "outputId": "7ece4a0e-0f8e-4f18-b6f8-4cdff3c5a9c7"
      },
      "source": [
        "\"ALI\" in message"
      ],
      "execution_count": null,
      "outputs": [
        {
          "output_type": "execute_result",
          "data": {
            "text/plain": [
              "False"
            ]
          },
          "metadata": {
            "tags": []
          },
          "execution_count": 36
        }
      ]
    },
    {
      "cell_type": "code",
      "metadata": {
        "colab": {
          "base_uri": "https://localhost:8080/"
        },
        "id": "XFeiJlQzfO5m",
        "outputId": "daf180f2-41d4-4292-e316-6d10035e3c75"
      },
      "source": [
        "print(message.title())"
      ],
      "execution_count": null,
      "outputs": [
        {
          "output_type": "stream",
          "text": [
            " Ali [Mohammadi] Is A Codder\n"
          ],
          "name": "stdout"
        }
      ]
    },
    {
      "cell_type": "code",
      "metadata": {
        "id": "I47FS_aGfbpL"
      },
      "source": [
        "pass\n",
        "\n",
        " "
      ],
      "execution_count": null,
      "outputs": []
    },
    {
      "cell_type": "code",
      "metadata": {
        "colab": {
          "base_uri": "https://localhost:8080/"
        },
        "id": "Bmzs2tfgguP2",
        "outputId": "fd0abec7-fc91-4a14-bb0c-67556ea8fc6a"
      },
      "source": [
        "import math\n",
        "print(math.ceil(2.9))"
      ],
      "execution_count": null,
      "outputs": [
        {
          "output_type": "stream",
          "text": [
            "3\n"
          ],
          "name": "stdout"
        }
      ]
    },
    {
      "cell_type": "code",
      "metadata": {
        "colab": {
          "base_uri": "https://localhost:8080/"
        },
        "id": "qVthUXN1kV12",
        "outputId": "c68fff63-3b5f-4d2b-e79b-6a9a3e32c0f7"
      },
      "source": [
        "is_hot = False\n",
        "is_cold = True\n",
        "if is_hot:\n",
        "  print(\"R\")\n",
        "elif is_cold:\n",
        "  print(\"G\")\n",
        "else:\n",
        "  print(\"A\")\n",
        "\n",
        "print(\"S\")"
      ],
      "execution_count": null,
      "outputs": [
        {
          "output_type": "stream",
          "text": [
            "G\n",
            "S\n"
          ],
          "name": "stdout"
        }
      ]
    },
    {
      "cell_type": "code",
      "metadata": {
        "colab": {
          "base_uri": "https://localhost:8080/"
        },
        "id": "40wtmYbil8cc",
        "outputId": "635b6b99-aefb-4b3f-991d-4d0bb8761b71"
      },
      "source": [
        "price = 1000000\n",
        "good_credit = True\n",
        "\n",
        "if good_credit:\n",
        "  down_payment = 0.1 * price\n",
        "else:\n",
        "  down_payment = 0.2 * price\n",
        "print(f\" down payment: {down_payment}\")\n",
        "\n"
      ],
      "execution_count": null,
      "outputs": [
        {
          "output_type": "stream",
          "text": [
            " down payment: 100000.0\n"
          ],
          "name": "stdout"
        }
      ]
    },
    {
      "cell_type": "code",
      "metadata": {
        "colab": {
          "base_uri": "https://localhost:8080/"
        },
        "id": "xrd-GttJ3MSZ",
        "outputId": "3e37e400-3dcf-457a-8b3f-f18fa2a8a6bc"
      },
      "source": [
        " weight = int(input(\"weight: \"))\n",
        " unit =input(\"(L)bs or (K)g:\" )\n",
        "\n",
        "if unit.upper() == \"L\":\n",
        "   converted = weight * 0.45\n",
        "   print( f\" you are {converted} kilos\")\n",
        "else:\n",
        "    converted = weight / 0.45\n",
        "    print(f\"you are {converted} pounds\")\n",
        "\n"
      ],
      "execution_count": null,
      "outputs": [
        {
          "output_type": "stream",
          "text": [
            "weight: 48\n",
            "(L)bs or (K)g:K\n",
            "you are 106.66666666666666 pounds\n"
          ],
          "name": "stdout"
        }
      ]
    },
    {
      "cell_type": "code",
      "metadata": {
        "colab": {
          "base_uri": "https://localhost:8080/"
        },
        "id": "p2G1jB7Q9Xgh",
        "outputId": "786f924e-f905-4c88-c407-98747a5c7d86"
      },
      "source": [
        "secret_number = 9\n",
        "guess_count = 0\n",
        "guess_limit = 3\n",
        "\n",
        "while guess_count <= guess_limit:\n",
        "  guess = int( input(' guess: '))\n",
        "  guess_count += 1\n",
        "  if guess == secret_number: \n",
        "    print ( \"you won!\")\n",
        "    break\n",
        "else:\n",
        "  print(\"SORRY!\")"
      ],
      "execution_count": null,
      "outputs": [
        {
          "output_type": "stream",
          "text": [
            " guess: 1\n",
            " guess: 2\n",
            " guess: 3\n",
            " guess: 4\n",
            "SORRY!\n"
          ],
          "name": "stdout"
        }
      ]
    },
    {
      "cell_type": "code",
      "metadata": {
        "colab": {
          "base_uri": "https://localhost:8080/"
        },
        "id": "_vIiAx15FZ-G",
        "outputId": "a6e4337e-2c97-469b-97f9-90bab27c329e"
      },
      "source": [
        "command = \"\"\n",
        "while command != \"quit\":\n",
        "  command = input(\"> \").lower()\n",
        "  if command == \"start\":\n",
        "    print(\"car started...\")\n",
        "  elif command == \"stop\":\n",
        "    print(\"car stopped.\")\n",
        "  elif command == \"help\":\n",
        "      print(\"\"\"\n",
        "start\n",
        "stop\n",
        "quit\n",
        "      \"\"\")\n",
        "\n",
        "  else:\n",
        "    print(\"BYE!\")\n",
        "    break\n",
        "\n",
        "\n",
        "\n"
      ],
      "execution_count": null,
      "outputs": [
        {
          "output_type": "stream",
          "text": [
            "> quit\n",
            "BYE!\n"
          ],
          "name": "stdout"
        }
      ]
    },
    {
      "cell_type": "code",
      "metadata": {
        "id": "6K1IreamQNrZ"
      },
      "source": [
        ""
      ],
      "execution_count": null,
      "outputs": []
    },
    {
      "cell_type": "code",
      "metadata": {
        "colab": {
          "base_uri": "https://localhost:8080/"
        },
        "id": "uykCMdbgQPPD",
        "outputId": "bbcb22fa-6d59-4fb4-f304-2495a460d74b"
      },
      "source": [
        "command = \"\"\n",
        "started = False\n",
        "while True:\n",
        "  command = input(\"> \").lower()\n",
        "  if command == \"start\":\n",
        "    if started:\n",
        "      ]print(\"car is already started...\")\n",
        "    else:\n",
        "      started = True\n",
        "      print(\" car started...\")\n",
        "  elif command == \"stop\":\n",
        "    if not started:\n",
        "      print(\" car is already stopped!\")\n",
        "    else:\n",
        "      started = False\n",
        "      print(\"car stopped.\")\n",
        "  elif command == \"help\":\n",
        "    print(\"\"\"\n",
        "start\n",
        "stop\n",
        "quit\n",
        "      \"\"\")\n",
        " \n",
        "\n",
        "  else:\n",
        "    print(\"BYE!\")\n",
        "    break\n",
        "\n",
        "\n",
        "\n"
      ],
      "execution_count": 4,
      "outputs": [
        {
          "output_type": "stream",
          "text": [
            "> stop\n",
            " car is already stopped!\n",
            "> stop\n",
            " car is already stopped!\n",
            "> start\n",
            " car started...\n",
            "> start\n",
            "car is already started...\n",
            "> stop\n",
            "car stopped.\n",
            "> stop\n",
            " car is already stopped!\n",
            "> quit\n",
            "BYE!\n"
          ],
          "name": "stdout"
        }
      ]
    },
    {
      "cell_type": "code",
      "metadata": {
        "id": "GH26-Hl0lcZk",
        "colab": {
          "base_uri": "https://localhost:8080/"
        },
        "outputId": "2f842191-5e85-4234-ae77-05c235652aaa"
      },
      "source": [
        "#forloop\n",
        "for item in [\"john\", \"sara\", \"parisa\"]:\n",
        "  print(item)"
      ],
      "execution_count": 7,
      "outputs": [
        {
          "output_type": "stream",
          "text": [
            "john\n",
            "sara\n",
            "parisa\n"
          ],
          "name": "stdout"
        }
      ]
    },
    {
      "cell_type": "code",
      "metadata": {
        "colab": {
          "base_uri": "https://localhost:8080/"
        },
        "id": "jbLq-tuPCPuj",
        "outputId": "a157b978-c676-446d-f1df-3a012f91f44d"
      },
      "source": [
        "#forloop\n",
        "for item in range(10):\n",
        "  print(item)"
      ],
      "execution_count": 9,
      "outputs": [
        {
          "output_type": "stream",
          "text": [
            "0\n",
            "1\n",
            "2\n",
            "3\n",
            "4\n",
            "5\n",
            "6\n",
            "7\n",
            "8\n",
            "9\n"
          ],
          "name": "stdout"
        }
      ]
    },
    {
      "cell_type": "code",
      "metadata": {
        "colab": {
          "base_uri": "https://localhost:8080/"
        },
        "id": "okRPiiyjCr7W",
        "outputId": "3d3f0af4-264b-4c60-943c-67118ef6f4e3"
      },
      "source": [
        "#forloop\n",
        "for item in range(5,10):\n",
        "  print(item)"
      ],
      "execution_count": 11,
      "outputs": [
        {
          "output_type": "stream",
          "text": [
            "5\n",
            "6\n",
            "7\n",
            "8\n",
            "9\n"
          ],
          "name": "stdout"
        }
      ]
    },
    {
      "cell_type": "code",
      "metadata": {
        "colab": {
          "base_uri": "https://localhost:8080/"
        },
        "id": "y4TYhtFGC4lP",
        "outputId": "07d49a02-fae9-4679-9d78-bbe7a8889fdc"
      },
      "source": [
        "prices = [ 10, 20, 30]\n",
        "total = 0\n",
        "\n",
        "for i in prices:\n",
        "  total += i\n",
        "  print(f\"Total: {total}\")\n",
        "\n"
      ],
      "execution_count": 14,
      "outputs": [
        {
          "output_type": "stream",
          "text": [
            "Total: 10\n",
            "Total: 30\n",
            "Total: 60\n"
          ],
          "name": "stdout"
        }
      ]
    },
    {
      "cell_type": "code",
      "metadata": {
        "colab": {
          "base_uri": "https://localhost:8080/"
        },
        "id": "1JYyJAL_DqPf",
        "outputId": "6888f75d-6147-4c7c-9fa5-fd8606e1fd6e"
      },
      "source": [
        "#nestedloops\n",
        "for i in range(4):\n",
        "  for j in range(3):\n",
        "    print(f\" {i}, {j}\")\n",
        "  print(i)"
      ],
      "execution_count": 18,
      "outputs": [
        {
          "output_type": "stream",
          "text": [
            " 0, 0\n",
            " 0, 1\n",
            " 0, 2\n",
            "0\n",
            " 1, 0\n",
            " 1, 1\n",
            " 1, 2\n",
            "1\n",
            " 2, 0\n",
            " 2, 1\n",
            " 2, 2\n",
            "2\n",
            " 3, 0\n",
            " 3, 1\n",
            " 3, 2\n",
            "3\n"
          ],
          "name": "stdout"
        }
      ]
    },
    {
      "cell_type": "code",
      "metadata": {
        "colab": {
          "base_uri": "https://localhost:8080/"
        },
        "id": "ucOwfyNVEfQf",
        "outputId": "64e97995-b516-420d-df59-b32c4f2d8dbf"
      },
      "source": [
        "numbers= [5, 2, 5, 2, 2]\n",
        "\n",
        "\n",
        "for i in numbers:\n",
        "  output = \"\"\n",
        "  for j in range(i):\n",
        "    output += \"x\"\n",
        "  print(output)\n",
        "\n",
        "\n"
      ],
      "execution_count": 25,
      "outputs": [
        {
          "output_type": "stream",
          "text": [
            "xxxxx\n",
            "xx\n",
            "xxxxx\n",
            "xx\n",
            "xx\n"
          ],
          "name": "stdout"
        }
      ]
    },
    {
      "cell_type": "code",
      "metadata": {
        "colab": {
          "base_uri": "https://localhost:8080/"
        },
        "id": "LEzdQsWQI2Go",
        "outputId": "0d43780f-a2af-4c33-9afb-fa79b2155fa7"
      },
      "source": [
        "names = [ \"mary\", \"bob\", \"parisa\"]\n",
        "print( names[0])"
      ],
      "execution_count": 26,
      "outputs": [
        {
          "output_type": "stream",
          "text": [
            "mary\n"
          ],
          "name": "stdout"
        }
      ]
    },
    {
      "cell_type": "code",
      "metadata": {
        "colab": {
          "base_uri": "https://localhost:8080/"
        },
        "id": "uNk1HpDZJCm4",
        "outputId": "e3a1d85c-7238-43c8-de49-c48053f263ea"
      },
      "source": [
        "numbers = [ 3, 5, 10]\n",
        "max= numbers[0]\n",
        "\n",
        "for i in numbers:\n",
        "  if i > max:\n",
        "    max = i\n",
        "print(max)\n",
        " "
      ],
      "execution_count": 28,
      "outputs": [
        {
          "output_type": "stream",
          "text": [
            "10\n"
          ],
          "name": "stdout"
        }
      ]
    },
    {
      "cell_type": "code",
      "metadata": {
        "colab": {
          "base_uri": "https://localhost:8080/"
        },
        "id": "a809uf7AKel4",
        "outputId": "5de422de-2cec-4906-ff47-922242cfba90"
      },
      "source": [
        " #2Dlists\n",
        " matrix = [[1,2,3], [4,5,6], [7,8,9]]\n",
        " print( matrix[0][2])\n"
      ],
      "execution_count": 29,
      "outputs": [
        {
          "output_type": "stream",
          "text": [
            "3\n"
          ],
          "name": "stdout"
        }
      ]
    },
    {
      "cell_type": "code",
      "metadata": {
        "colab": {
          "base_uri": "https://localhost:8080/"
        },
        "id": "jqzcoQhaL2ZA",
        "outputId": "243a081f-0406-443b-a1f9-c74bde8c029b"
      },
      "source": [
        " matrix = [[1,2,3], [4,5,6], [7,8,9]]\n",
        "\n",
        "for i in matrix:\n",
        "  for j in i:\n",
        "    print(j)\n"
      ],
      "execution_count": 33,
      "outputs": [
        {
          "output_type": "stream",
          "text": [
            "1\n",
            "2\n",
            "3\n",
            "4\n",
            "5\n",
            "6\n",
            "7\n",
            "8\n",
            "9\n"
          ],
          "name": "stdout"
        }
      ]
    },
    {
      "cell_type": "code",
      "metadata": {
        "colab": {
          "base_uri": "https://localhost:8080/"
        },
        "id": "sxIAKvz5NLFI",
        "outputId": "4e389f8c-2805-4d1c-edf5-2442218eeb0f"
      },
      "source": [
        "#listmethods\n",
        "numbers = [5 ,4, 5, 3, 3]\n",
        "numbers.insert(0, 20)\n",
        "print(numbers)\n",
        "print( 30 in numbers)\n",
        "numbers.sort()\n",
        "print(numbers)\n",
        "\n",
        "\n",
        "x = []\n",
        "for i in numbers:\n",
        "  if i not in x:\n",
        "    x.append(i)\n",
        "print(x)"
      ],
      "execution_count": 39,
      "outputs": [
        {
          "output_type": "stream",
          "text": [
            "[20, 5, 4, 5, 3, 3]\n",
            "False\n",
            "[3, 3, 4, 5, 5, 20]\n",
            "[3, 4, 5, 20]\n"
          ],
          "name": "stdout"
        }
      ]
    },
    {
      "cell_type": "code",
      "metadata": {
        "colab": {
          "base_uri": "https://localhost:8080/"
        },
        "id": "lxLxXIKdNQgJ",
        "outputId": "2d18e626-ab56-4abe-eb51-ec40ee939671"
      },
      "source": [
        "#unpacking\n",
        "coordinates = (1, 2, 3)\n",
        "x, y, z = coordinates\n",
        "print(x)\n"
      ],
      "execution_count": 42,
      "outputs": [
        {
          "output_type": "stream",
          "text": [
            "1\n"
          ],
          "name": "stdout"
        }
      ]
    },
    {
      "cell_type": "code",
      "metadata": {
        "colab": {
          "base_uri": "https://localhost:8080/"
        },
        "id": "NVc3JTJ7QKJZ",
        "outputId": "6dde5c97-81b6-43ce-e568-e4e2a2f2d5cd"
      },
      "source": [
        "#dictionaries\n",
        "customer = {\"name\":\"parisa\", \"age\":31, \"is_verfied\":True}\n",
        "print(customer[\"name\"])\n"
      ],
      "execution_count": 45,
      "outputs": [
        {
          "output_type": "stream",
          "text": [
            "parisa\n"
          ],
          "name": "stdout"
        }
      ]
    },
    {
      "cell_type": "code",
      "metadata": {
        "colab": {
          "base_uri": "https://localhost:8080/"
        },
        "id": "IX3XzdQZaG-F",
        "outputId": "8acf7db9-ac7e-4b4d-e6fd-9725c996ca16"
      },
      "source": [
        "phone_number = input(\"phone: \")\n",
        "digits_mapping = { \"1\": \"one\", \"2\":\"two\", \"3\":\"three\"}\n",
        "output = \"\"\n",
        "for i in phone_number:\n",
        "  output += digits_mapping.get(i) + \" \"\n",
        "print(output)\n"
      ],
      "execution_count": 48,
      "outputs": [
        {
          "output_type": "stream",
          "text": [
            "phone: 12\n",
            "one two \n"
          ],
          "name": "stdout"
        }
      ]
    },
    {
      "cell_type": "code",
      "metadata": {
        "colab": {
          "base_uri": "https://localhost:8080/"
        },
        "id": "8j8mrUUGbZGw",
        "outputId": "cac4c47f-dc03-4c37-99b5-e6c4d2627e90"
      },
      "source": [
        "#emojiconverter\n",
        "message = input(\">\")\n",
        "words = message.split(\" \")\n",
        "print(words)\n",
        "emojies = { \":)\":\"😀\", \":(\":\"😌\"}\n",
        "\n",
        "output = \"\"\n",
        "for i in words:\n",
        "  output += emojies.get(i, i)+ \" \" #???????????\n",
        "print(output)\n",
        "\n"
      ],
      "execution_count": 62,
      "outputs": [
        {
          "output_type": "stream",
          "text": [
            ">good :)\n",
            "['good', ':)']\n",
            "good 😀 \n"
          ],
          "name": "stdout"
        }
      ]
    },
    {
      "cell_type": "code",
      "metadata": {
        "colab": {
          "base_uri": "https://localhost:8080/"
        },
        "id": "qS-S-Q-rd_2o",
        "outputId": "4932191e-174e-47d3-8233-40480004c337"
      },
      "source": [
        "#define a function\n",
        "#parameters\n",
        "def name(first_name, last_name):\n",
        "  print(f\"Hello {first_name} {last_name} !\")\n",
        "\n",
        "name(first_name=\"john\", last_name=\"smith\")\n",
        "\n"
      ],
      "execution_count": 64,
      "outputs": [
        {
          "output_type": "stream",
          "text": [
            "Hello john smith !\n"
          ],
          "name": "stdout"
        }
      ]
    },
    {
      "cell_type": "code",
      "metadata": {
        "colab": {
          "base_uri": "https://localhost:8080/"
        },
        "id": "N4FKflOdenJZ",
        "outputId": "6f891622-b5d3-491e-9544-8f8f2189b9a7"
      },
      "source": [
        "#keyword argument\n",
        "#return argument\n",
        "\n",
        "def square(number):\n",
        "  return number * number\n",
        "\n",
        "print(square(3))\n",
        "\n"
      ],
      "execution_count": 3,
      "outputs": [
        {
          "output_type": "stream",
          "text": [
            "9\n"
          ],
          "name": "stdout"
        }
      ]
    },
    {
      "cell_type": "code",
      "metadata": {
        "colab": {
          "base_uri": "https://localhost:8080/"
        },
        "id": "g_BE6zg7iBHx",
        "outputId": "ddfeb8ee-2a4d-45e7-ac4a-4a8843b4a400"
      },
      "source": [
        "def emoji_converter(message):\n",
        "  words = message.split(\" \")\n",
        "  print(words)\n",
        "  emojies = { \":)\":\"😀\", \":(\":\"😌\"}\n",
        "\n",
        "  output = \"\"\n",
        "  for i in words:\n",
        "    output += emojies.get(i, i)+ \" \" #???????????\n",
        "  return output\n",
        "\n",
        "message = input(\">\")\n",
        "print(emoji_converter(message))"
      ],
      "execution_count": 7,
      "outputs": [
        {
          "output_type": "stream",
          "text": [
            ">:) good\n",
            "[':)', 'good']\n",
            "😀 good \n"
          ],
          "name": "stdout"
        }
      ]
    },
    {
      "cell_type": "code",
      "metadata": {
        "colab": {
          "base_uri": "https://localhost:8080/"
        },
        "id": "6090ZLZtkXq3",
        "outputId": "97547a03-f7a0-4fcd-fcb0-ab4ac16c5390"
      },
      "source": [
        "#classes\n",
        "class Point:\n",
        "  def __init__(self, x, y):\n",
        "    self.x = x\n",
        "    self.y = y\n",
        "\n",
        "  def move(self):\n",
        "    print(\"move\")\n",
        "  def draw(self):\n",
        "    print(\"draw\")\n",
        "\n",
        "\n",
        "\n",
        "point = Point(2 , 3)\n",
        "\n",
        "print(point.x)\n",
        "\n",
        "\n"
      ],
      "execution_count": 12,
      "outputs": [
        {
          "output_type": "stream",
          "text": [
            "2\n"
          ],
          "name": "stdout"
        }
      ]
    },
    {
      "cell_type": "code",
      "metadata": {
        "colab": {
          "base_uri": "https://localhost:8080/"
        },
        "id": "Kc5xh4atoiZC",
        "outputId": "b67e3052-2e7f-493d-a9a3-53018d3eaf71"
      },
      "source": [
        "class Person:\n",
        "  def talk(self): #talk is method\n",
        "    print(\"talk\")\n",
        "\n",
        "john = Person()\n",
        "john.talk()\n"
      ],
      "execution_count": 15,
      "outputs": [
        {
          "output_type": "stream",
          "text": [
            "talk\n"
          ],
          "name": "stdout"
        }
      ]
    },
    {
      "cell_type": "code",
      "metadata": {
        "colab": {
          "base_uri": "https://localhost:8080/",
          "height": 243
        },
        "id": "opjtn2t6rImS",
        "outputId": "16546954-ca45-4bc3-c98e-fd10d1e2c600"
      },
      "source": [
        "#counstrutor\n",
        "class Person:\n",
        "  def __init__(self, talk):\n",
        "    self.talk = talk\n",
        "\n",
        "  def talk(self):\n",
        "    print(f\" hiii{self.talk}\")\n",
        "\n",
        "john = Person(\"Hellooooo\")\n",
        "john.talk()\n",
        "\n",
        "\n"
      ],
      "execution_count": 28,
      "outputs": [
        {
          "output_type": "error",
          "ename": "TypeError",
          "evalue": "ignored",
          "traceback": [
            "\u001b[0;31m---------------------------------------------------------------------------\u001b[0m",
            "\u001b[0;31mTypeError\u001b[0m                                 Traceback (most recent call last)",
            "\u001b[0;32m<ipython-input-28-be6de9ab5f7d>\u001b[0m in \u001b[0;36m<module>\u001b[0;34m()\u001b[0m\n\u001b[1;32m      8\u001b[0m \u001b[0;34m\u001b[0m\u001b[0m\n\u001b[1;32m      9\u001b[0m \u001b[0mjohn\u001b[0m \u001b[0;34m=\u001b[0m \u001b[0mPerson\u001b[0m\u001b[0;34m(\u001b[0m\u001b[0;34m\"Hellooooo\"\u001b[0m\u001b[0;34m)\u001b[0m\u001b[0;34m\u001b[0m\u001b[0;34m\u001b[0m\u001b[0m\n\u001b[0;32m---> 10\u001b[0;31m \u001b[0mjohn\u001b[0m\u001b[0;34m.\u001b[0m\u001b[0mtalk\u001b[0m\u001b[0;34m(\u001b[0m\u001b[0;34m)\u001b[0m\u001b[0;34m\u001b[0m\u001b[0;34m\u001b[0m\u001b[0m\n\u001b[0m\u001b[1;32m     11\u001b[0m \u001b[0;34m\u001b[0m\u001b[0m\n\u001b[1;32m     12\u001b[0m \u001b[0;34m\u001b[0m\u001b[0m\n",
            "\u001b[0;31mTypeError\u001b[0m: 'str' object is not callable"
          ]
        }
      ]
    },
    {
      "cell_type": "code",
      "metadata": {
        "colab": {
          "base_uri": "https://localhost:8080/"
        },
        "id": "Ns8JPP20saQg",
        "outputId": "cde35d3c-d3e0-4f9a-de22-54bf4269c8aa"
      },
      "source": [
        "class Car:\n",
        "  def setcolor(self, color):\n",
        "    print(self)\n",
        "    self.color = color\n",
        "    print(self.color)\n",
        "\n",
        "myobject = Car()\n",
        "myobject.setcolor(\"green\")\n"
      ],
      "execution_count": 31,
      "outputs": [
        {
          "output_type": "stream",
          "text": [
            "<__main__.Car object at 0x7f515ee2dbd0>\n",
            "green\n"
          ],
          "name": "stdout"
        }
      ]
    },
    {
      "cell_type": "code",
      "metadata": {
        "id": "a8qe26-73Bsk"
      },
      "source": [
        "class Car:\n",
        "\n",
        "  def __init__ (self, color, model):\n",
        "    self.color = color\n",
        "    self.model = model\n",
        "\n",
        "car1 = Car(\"green\", 1390)\n",
        "car2 = Car(\"Blue\", 1389)\n"
      ],
      "execution_count": 35,
      "outputs": []
    },
    {
      "cell_type": "code",
      "metadata": {
        "colab": {
          "base_uri": "https://localhost:8080/"
        },
        "id": "UIDuXcVJ51cO",
        "outputId": "529880ce-eb4a-446e-8d46-744560293715"
      },
      "source": [
        "class Mammal:\n",
        "  def walk(self):\n",
        "    print(\"walk\")\n",
        "\n",
        "\n",
        "class Dog(Mammal):\n",
        "  def bark(self):\n",
        "    print(\"bark\")\n",
        "\n",
        "\n",
        "class Cat(Mammal):\n",
        "  def mioo(self):\n",
        "    print(\"MIOOOOOO\")\n",
        "\n",
        "\n",
        "dog1 = Dog()\n",
        "dog1.bark()\n",
        "\n",
        "cat1 = Cat()\n",
        "cat1.mioo()"
      ],
      "execution_count": 40,
      "outputs": [
        {
          "output_type": "stream",
          "text": [
            "bark\n",
            "MIOOOOOO\n"
          ],
          "name": "stdout"
        }
      ]
    },
    {
      "cell_type": "code",
      "metadata": {
        "id": "_UpiUUAu_qe9"
      },
      "source": [
        "#modules\n",
        "def lbs_to_kg(weight):\n",
        "  return weight * 0.45\n",
        "\n",
        "def kg_to_lbs(weight):\n",
        "  return weight / 0.45"
      ],
      "execution_count": 41,
      "outputs": []
    },
    {
      "cell_type": "code",
      "metadata": {
        "colab": {
          "base_uri": "https://localhost:8080/"
        },
        "id": "fGym0F9jBZML",
        "outputId": "cf30ab26-5a06-41ad-e6b9-4e0f046a44a8"
      },
      "source": [
        "def find_max(numbers):\n",
        "  max = numbers[0]\n",
        "  for i in numbers:\n",
        "    if i > max:\n",
        "      max = i\n",
        "  return max\n",
        "\n",
        "numbers = [ 1, 2, 3, 4]\n",
        "find_max(numbers)\n"
      ],
      "execution_count": 43,
      "outputs": [
        {
          "output_type": "execute_result",
          "data": {
            "text/plain": [
              "4"
            ]
          },
          "metadata": {
            "tags": []
          },
          "execution_count": 43
        }
      ]
    },
    {
      "cell_type": "code",
      "metadata": {
        "id": "hYDYXN0PDbrr"
      },
      "source": [
        "# packages = multiple modules\n"
      ],
      "execution_count": null,
      "outputs": []
    },
    {
      "cell_type": "markdown",
      "metadata": {
        "id": "6zbTeBUCEg6t"
      },
      "source": [
        "# New Section\n",
        "\n"
      ]
    },
    {
      "cell_type": "code",
      "metadata": {
        "colab": {
          "base_uri": "https://localhost:8080/"
        },
        "id": "VMM-U_mlExw8",
        "outputId": "a414e40a-e728-486d-d71c-8899a9a13d23"
      },
      "source": [
        "#generating random values\n",
        "\n",
        "import random\n",
        "\n",
        "for i in range(3):\n",
        "  print(random.randint(10,20))\n",
        " "
      ],
      "execution_count": 46,
      "outputs": [
        {
          "output_type": "stream",
          "text": [
            "12\n",
            "18\n",
            "20\n"
          ],
          "name": "stdout"
        }
      ]
    },
    {
      "cell_type": "code",
      "metadata": {
        "colab": {
          "base_uri": "https://localhost:8080/",
          "height": 36
        },
        "id": "M-hJ7QG2Hlm3",
        "outputId": "c2b1e377-890a-4ffc-b6cc-ad163d2cb40e"
      },
      "source": [
        "members = [\"a\", \"b\", \"c\"]\n",
        "random.choice(members)"
      ],
      "execution_count": 47,
      "outputs": [
        {
          "output_type": "execute_result",
          "data": {
            "application/vnd.google.colaboratory.intrinsic+json": {
              "type": "string"
            },
            "text/plain": [
              "'c'"
            ]
          },
          "metadata": {
            "tags": []
          },
          "execution_count": 47
        }
      ]
    },
    {
      "cell_type": "code",
      "metadata": {
        "colab": {
          "base_uri": "https://localhost:8080/"
        },
        "id": "e169WyjQIG2V",
        "outputId": "5c9adb03-b654-4be4-d329-0048d00d67b4"
      },
      "source": [
        "class Dice:\n",
        "  def roll(self):\n",
        "    first = random.randint(1,6)\n",
        "    second = random.randint(1,6)\n",
        "    return first, second\n",
        "\n",
        "dice = Dice()\n",
        "print(dice.roll())\n"
      ],
      "execution_count": 57,
      "outputs": [
        {
          "output_type": "stream",
          "text": [
            "(1, 3)\n"
          ],
          "name": "stdout"
        }
      ]
    },
    {
      "cell_type": "code",
      "metadata": {
        "id": "zZV62AExI9RT"
      },
      "source": [
        "# files and directories\n",
        "from pathlib import Path\n",
        "\n",
        " "
      ],
      "execution_count": null,
      "outputs": []
    }
  ]
}